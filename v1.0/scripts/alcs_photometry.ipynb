{
 "cells": [
  {
   "cell_type": "code",
   "execution_count": null,
   "metadata": {},
   "outputs": [],
   "source": [
    "import os\n",
    "import glob\n",
    "import numpy as np\n",
    "import matplotlib.pyplot as plt\n",
    "from matplotlib.path import Path\n",
    "\n",
    "import scipy.ndimage as nd\n",
    "import scipy.spatial\n",
    "from scipy.optimize import minimize\n",
    "\n",
    "from stsci.convolve import convolve2d\n",
    "from skimage.transform import warp\n",
    "from skimage.transform import SimilarityTransform\n",
    "from skimage.morphology import dilation\n",
    "from skimage.morphology import binary_dilation\n",
    "\n",
    "import astropy.io.fits as pyfits\n",
    "import astropy.wcs as pywcs\n",
    "import astropy.units as u\n",
    "\n",
    "from photutils import create_matching_kernel\n",
    "from photutils import (HanningWindow, TukeyWindow, CosineBellWindow,\n",
    "                       SplitCosineBellWindow, TopHatWindow)\n",
    "\n",
    "import drizzlepac\n",
    "from drizzlepac.astrodrizzle import ablot\n",
    "import grizli.utils\n",
    "from golfir import irac \n",
    "from golfir.utils import get_wcslist, _obj_shift\n",
    "from golfir import model\n",
    "import golfir.model"
   ]
  },
  {
   "cell_type": "code",
   "execution_count": null,
   "metadata": {},
   "outputs": [],
   "source": [
    "root = 'j001420m3024'\n",
    "\n",
    "PATH = '/Users/vasily/documents/PhD/Projects/IRAC/HST/CHArGE/IRAC/Photometry/HFF-buffalo/'+root\n",
    "PATH_r=PATH[:-len(root)]\n",
    "try:\n",
    "    os.mkdir(PATH)\n",
    "except:\n",
    "    pass\n",
    "\n",
    "os.chdir(PATH)\n",
    "\n",
    "if not os.path.exists(f'{root}_irac_phot.fits'):\n",
    "    os.system(f'cp {root}_phot.fits {root}_irac_phot.fits')"
   ]
  },
  {
   "cell_type": "code",
   "execution_count": null,
   "metadata": {},
   "outputs": [],
   "source": [
    "# Download files \n",
    "for ext in ['_phot.fits', '-f160w_drz_sci.fits.gz', '-f160w_drz_wht.fits.gz', \n",
    "            '-f160w_psf.fits', '-ir_drz_sci.fits.gz', '-ir_drz_wht.fits.gz', '-ir_seg.fits.gz']:\n",
    "    file=root+ext\n",
    "    if len(glob.glob(file.strip('.gz')+'*')) == 0:\n",
    "        print(file)\n",
    "        os.system(f'wget -O {file} https://s3.amazonaws.com/grizli-v1/Pipeline/{root}/Prep/{file}')\n",
    "\n",
    "# Gunzip\n",
    "os.system('gunzip *fits.gz')\n",
    "\n",
    "# Copy of the catalog for IRAC photometry\n",
    "if not os.path.exists(f'{root}_irac_phot.fits'):\n",
    "    os.system(f'cp {root}_phot.fits {root}_irac_phot.fits')"
   ]
  },
  {
   "cell_type": "code",
   "execution_count": null,
   "metadata": {},
   "outputs": [],
   "source": [
    "#Compute photometry\n",
    "\n",
    "kwargs = {'ds9': None, \n",
    "          'patch_arcmin': 1,      # Size of patch to fit\n",
    "          'patch_overlap': 0.2,     # Overlap of automatic patches\n",
    "          'mag_limit': [24, 27],    # Two-pass modeling.  Fit sources brighter than mag_limit in HST catalog\n",
    "          'run_alignment': True,    # Run fine alignment between IRAC-HST, in between two steps of `mag_limit`\n",
    "          'galfit_flux_limit': 20,  # Brightness limit (uJy) of objects to fit with GALFIT\n",
    "          'refine_brightest': True, # Refine masked bright objects with galfit\n",
    "          'any_limit': 15,          # Brightness limit below which to mask *any* sources\n",
    "          'point_limit': 15,        # Brightness limit below which to mask point-like sources\n",
    "          'bright_sn': 30,          # S/N threshold for masked pixels of bright object\n",
    "          'bkg_kwargs': {'order_npix': 64},          # Arguments to the local background routine\n",
    "          'channels': ['ch1', 'ch2'],  # Channels to try\n",
    "          'psf_only': False,        \n",
    "          'use_saved_components': False, # Use models from a \"components\" file if found\n",
    "          'window': None            # PSF-match windowing\n",
    "          }\n",
    "model.run_all_patches(root,PATH=PATH_r,sync_results=False,**kwargs)"
   ]
  },
  {
   "cell_type": "code",
   "execution_count": null,
   "metadata": {},
   "outputs": [],
   "source": [
    "#Compute photoz\n",
    "\n",
    "from grizli.pipeline import photoz\n",
    "import numpy as np\n",
    "\n",
    "self, cat, zout = photoz.eazy_photoz(root+'_irac', object_only=False, apply_prior=False, \n",
    "                                     beta_prior=True, aper_ix=1, force=True, get_external_photometry=False, \n",
    "                                     compute_residuals=False, total_flux='flux_auto',\n",
    "                                    aperture_indices=[1,2])"
   ]
  }
 ],
 "metadata": {
  "kernelspec": {
   "display_name": "Python 3",
   "language": "python",
   "name": "python3"
  },
  "language_info": {
   "codemirror_mode": {
    "name": "ipython",
    "version": 3
   },
   "file_extension": ".py",
   "mimetype": "text/x-python",
   "name": "python",
   "nbconvert_exporter": "python",
   "pygments_lexer": "ipython3",
   "version": "3.6.10"
  }
 },
 "nbformat": 4,
 "nbformat_minor": 4
}
